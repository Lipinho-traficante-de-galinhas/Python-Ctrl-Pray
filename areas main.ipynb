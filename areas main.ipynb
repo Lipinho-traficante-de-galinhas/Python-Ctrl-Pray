{
 "cells": [
  {
   "cell_type": "code",
   "execution_count": null,
   "metadata": {},
   "outputs": [],
   "source": [
    "def areaQuadrado(lado):\n",
    "    area = lado * lado\n",
    "    return  area\n",
    "\n",
    "def areaTriangulo(base, altura)\n",
    "    area = base * altura / 2\n",
    "    return area\n",
    "\n",
    "def areaTrapezio(b,B,h):\n",
    "    area = ((b+b)*h)/2\n",
    "    return area"
   ]
  }
 ],
 "metadata": {
  "kernelspec": {
   "display_name": "Python 3",
   "language": "python",
   "name": "python3"
  },
  "language_info": {
   "codemirror_mode": {
    "name": "ipython",
    "version": 3
   },
   "file_extension": ".py",
   "mimetype": "text/x-python",
   "name": "python",
   "nbconvert_exporter": "python",
   "pygments_lexer": "ipython3",
   "version": "3.8.5"
  }
 },
 "nbformat": 4,
 "nbformat_minor": 4
}
